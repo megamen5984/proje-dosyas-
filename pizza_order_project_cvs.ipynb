{
  "nbformat": 4,
  "nbformat_minor": 0,
  "metadata": {
    "colab": {
      "provenance": []
    },
    "kernelspec": {
      "name": "python3",
      "display_name": "Python 3"
    },
    "language_info": {
      "name": "python"
    }
  },
  "cells": [
    {
      "cell_type": "code",
      "execution_count": null,
      "metadata": {
        "id": "DJcXKeKGOkJc",
        "colab": {
          "base_uri": "https://localhost:8080/"
        },
        "outputId": "e014e509-c1a6-47da-c204-70bd5e7c1d9d"
      },
      "outputs": [
        {
          "output_type": "stream",
          "name": "stdout",
          "text": [
            "lütfen adınızı girin: \n"
          ]
        }
      ],
      "source": [
        "import pandas as pd\n",
        "import datetime\n",
        "\n",
        "df = pd.DataFrame(columns=['Time','Description','cost','Name','Identity Number','Credit Card Number','Credit Card Password'])\n",
        "cost=0\n",
        "description=[]\n",
        "print('lütfen adınızı girin: ')\n",
        "ad=input()\n",
        "print('Lütfen TC kimlik numaranızı girin: ')\n",
        "kimlik=input()\n",
        "print('Lütfen kredi kartı numaranızı girin: ')\n",
        "kart_no=input()\n",
        "print('Lütfen kredi kartı şifrenizi girin: ')\n",
        "kart_sifre=input()\n",
        "print('* Lütfen Bir Pizza Tabanı Seçiniz:\\n1: Margarita Pizza\\n2: Klasik\\n3: Ton Balıklı Pizza\\n4: Sade Pizza\\n5: Peperoni Pizza\\n6: Türk Pizza\\n* ve seçeceğiniz sos:\\n11: Ekstra Zeytin\\n12: Ekstra Mantar\\n13: Et\\n14: Keçi Peyniri\\n15: Ekstra Mısır\\n16: Ekstra Soğan\\n17:Ekstra Mozzarella Peyniri\\n18: Ekstra Biber\\n* Teşekkür ederiz!')\n",
        "\n",
        "print(\"--------------------------------------------------------------------\")\n",
        "print(\"Lütfen Bir Pizza çeşidi Seçiniz:\\n1: Margarita Pizza(50tl)\\n2: Klasik Pizza(30tl)\\n3: Ton Balıklı Pizza(75tl)\\n4: Sade Pizza(15tl)\\n5: Peperoni Pizza(55tl)\\n6: Türk Pizza(80tl)\")\n",
        "pizza_turu=int(input())\n",
        "if pizza_turu==1:\n",
        "  cost+=50\n",
        "elif pizza_turu==2:\n",
        "  cost+=30\n",
        "elif pizza_turu==3:\n",
        "  cost+=75\n",
        "elif pizza_turu==4:\n",
        "  cost+=15\n",
        "elif pizza_turu==5:\n",
        "  cost+=55\n",
        "elif pizza_turu==6: \n",
        "    cost+=80\n",
        "else:\n",
        "  print(\"hatalı tuşlama yaptınız.\")\n",
        "  \n",
        "  print(\"Eklemek İstediğiniz Malzemeleri Seçiniz: \")\n",
        "\n",
        "while(1):\n",
        " print(\"Zeytin(3tl) için 1,Mantar(4tl) için 2,Et(12tl) için 3,Keçi Peyniri(6tl) için 4,Mısır(2tl) için 5,Mozzarella Peyniri(8tl) için 6,Soğan(3tl) için 7,Biber(2tl) için 8'e tıklayınız, Eklemek istediğiniz malzeme yoksa 0'a tıklayınız. \")\n",
        " pizza_malzeme=int(input())\n",
        " if pizza_malzeme==0:\n",
        "  break\n",
        " if pizza_malzeme==1:\n",
        "  cost+=3 \n",
        "  description.append(\"Zeytin\")\n",
        " if pizza_malzeme==2:\n",
        "  cost+=4\n",
        "  description.append(\"Mantar\")\n",
        " if pizza_malzeme==3:\n",
        "  cost+=12 \n",
        "  description.append(\"Et\")\n",
        " if pizza_malzeme==4:\n",
        "  cost+=6 \n",
        "  description.append(\"Keçi Peyniri\")\n",
        " if pizza_malzeme==5:\n",
        "  cost+=2 \n",
        "  description.append(\"Mısır\")\n",
        " if pizza_malzeme==6:\n",
        "  cost+=8 \n",
        "  description.append(\"Mozzarella Peyniri\")\n",
        " if pizza_malzeme==7:\n",
        "  cost+=3\n",
        "  description.append(\"Soğan\")\n",
        " if pizza_malzeme==8:\n",
        "  cost+=2 \n",
        "  description.append(\"Biber\")\n",
        "else:\n",
        "   print(\"Hatalı tuşlama yaptınız!!\")\n",
        "\n",
        "values = [datetime.datetime.now(),description,cost,ad,kimlik,kart_no,kart_sifre]\n",
        "df = df.append(pd.Series(values, index=df.columns), ignore_index=True)\n",
        "\n",
        "df"
      ]
    }
  ]
}